{
  "nbformat": 4,
  "nbformat_minor": 0,
  "metadata": {
    "colab": {
      "provenance": [],
      "authorship_tag": "ABX9TyM9OPr3jpqj0fYINa9w8oOX",
      "include_colab_link": true
    },
    "kernelspec": {
      "name": "python3",
      "display_name": "Python 3"
    },
    "language_info": {
      "name": "python"
    }
  },
  "cells": [
    {
      "cell_type": "markdown",
      "metadata": {
        "id": "view-in-github",
        "colab_type": "text"
      },
      "source": [
        "<a href=\"https://colab.research.google.com/github/Ajinmt/Data-Mining/blob/main/preprocessing.ipynb\" target=\"_parent\"><img src=\"https://colab.research.google.com/assets/colab-badge.svg\" alt=\"Open In Colab\"/></a>"
      ]
    },
    {
      "cell_type": "code",
      "execution_count": null,
      "metadata": {
        "id": "DPGkBVMpfdQA"
      },
      "outputs": [],
      "source": [
        "import numpy as np\n",
        "import matplotlib.pyplot as plt\n",
        "import pandas as pd"
      ]
    },
    {
      "cell_type": "code",
      "source": [
        "dataset = pd.read_csv(\"kesehatan.csv\")\n",
        "x = dataset.iloc[:,:-1].values\n",
        "y = dataset.iloc[:,-1].values"
      ],
      "metadata": {
        "id": "AhESMWAyhrp0"
      },
      "execution_count": 11,
      "outputs": []
    },
    {
      "cell_type": "code",
      "source": [
        "print (x)"
      ],
      "metadata": {
        "colab": {
          "base_uri": "https://localhost:8080/"
        },
        "id": "qygb2nCHh2ge",
        "outputId": "1d0639c7-866e-48ac-f4f5-6ee21f27a6a0"
      },
      "execution_count": 12,
      "outputs": [
        {
          "output_type": "stream",
          "name": "stdout",
          "text": [
            "[[1 58.0 'Perempuan' 152.0 196.0 'Tidak']\n",
            " [2 71.0 'Perempuan' 101.0 211.0 'Tidak']\n",
            " [3 48.0 'Laki-laki' 129.0 200.0 'Tidak']\n",
            " [4 nan 'Perempuan' 137.0 204.0 'Ya']\n",
            " [5 62.0 'Laki-laki' 101.0 213.0 'Ya']\n",
            " [6 27.0 'Perempuan' 163.0 152.0 'Tidak']\n",
            " [7 40.0 'Laki-laki' 159.0 200.0 'Tidak']\n",
            " [8 58.0 'Perempuan' 120.0 156.0 'Tidak']\n",
            " [9 77.0 'Laki-laki' 132.0 170.0 'Tidak']\n",
            " [10 38.0 'Laki-laki' 175.0 222.0 'Tidak']\n",
            " [11 42.0 'Perempuan' nan 188.0 'Tidak']\n",
            " [12 30.0 'Laki-laki' 121.0 nan 'Tidak']\n",
            " [13 30.0 'Perempuan' 148.0 153.0 'Tidak']\n",
            " [14 43.0 'Perempuan' 158.0 238.0 'Ya']\n",
            " [15 72.0 'Perempuan' nan 209.0 'Tidak']\n",
            " [16 55.0 'Perempuan' 159.0 nan 'Ya']\n",
            " [17 59.0 'Perempuan' 179.0 158.0 'Tidak']\n",
            " [18 43.0 'Perempuan' 114.0 239.0 'Tidak']\n",
            " [19 nan 'Perempuan' 161.0 202.0 'Ya']\n",
            " [20 41.0 'Perempuan' 161.0 151.0 'Tidak']]\n"
          ]
        }
      ]
    },
    {
      "cell_type": "code",
      "source": [
        "print (y)"
      ],
      "metadata": {
        "colab": {
          "base_uri": "https://localhost:8080/"
        },
        "id": "ODCez1x5kD1n",
        "outputId": "b56f5406-3d41-486b-d676-dc04b14d8685"
      },
      "execution_count": 13,
      "outputs": [
        {
          "output_type": "stream",
          "name": "stdout",
          "text": [
            "['Sehat' 'Sakit' 'Sakit' 'Sehat' 'Sakit' 'Sehat' 'Sakit' 'Sehat' 'Sehat'\n",
            " 'Sakit' 'Sakit' 'Sehat' 'Sakit' 'Sakit' 'Sakit' 'Sehat' 'Sehat' 'Sehat'\n",
            " 'Sehat' 'Sehat']\n"
          ]
        }
      ]
    },
    {
      "cell_type": "code",
      "source": [
        "from sklearn.impute import SimpleImputer\n",
        "def impute_data_sequential(dataset):\n",
        "    x_numerical = dataset.iloc[:, [ 1, 3, 4]].values\n",
        "    x_categorical = dataset.iloc[:, [0, 2, 5]].values\n",
        "\n",
        "    imputer_numerical = SimpleImputer(strategy='mean')\n",
        "    x_numerical = imputer_numerical.fit_transform(x_numerical)\n",
        "\n",
        "    imputer_categorical = SimpleImputer(strategy='most_frequent')\n",
        "    x_categorical = imputer_categorical.fit_transform(x_categorical)\n",
        "\n",
        "    x = np.hstack((x_categorical, x_numerical))\n",
        "\n",
        "    return x\n"
      ],
      "metadata": {
        "id": "9yl5SuuEkaWG"
      },
      "execution_count": 79,
      "outputs": []
    },
    {
      "cell_type": "markdown",
      "source": [
        "Untuk kolom numerik seperti Age, BloodPresure, Cholesterol (1,3,4) menggunakan strategi mean"
      ],
      "metadata": {
        "id": "dVqgSnRstRjH"
      }
    },
    {
      "cell_type": "markdown",
      "source": [
        "Untuk kolom kategorial seperti Gender, Smoker, DiseaseStatus (2,5,6) menggunakan strategi most frequent"
      ],
      "metadata": {
        "id": "mEpbwnI1tqgF"
      }
    },
    {
      "cell_type": "markdown",
      "source": [
        "indeks ke 0 adalah PatientID"
      ],
      "metadata": {
        "id": "8EzF2EUWx7P5"
      }
    },
    {
      "cell_type": "code",
      "source": [
        "x = impute_data_sequential(dataset)"
      ],
      "metadata": {
        "id": "ULCanpFboM1U"
      },
      "execution_count": 80,
      "outputs": []
    },
    {
      "cell_type": "code",
      "source": [
        "print (x)"
      ],
      "metadata": {
        "colab": {
          "base_uri": "https://localhost:8080/"
        },
        "id": "5kqee74ExuYz",
        "outputId": "c680a480-d19d-4225-87a6-3f8042846cb6"
      },
      "execution_count": 81,
      "outputs": [
        {
          "output_type": "stream",
          "name": "stdout",
          "text": [
            "[[1 'Perempuan' 'Tidak' 58.0 152.0 196.0]\n",
            " [2 'Perempuan' 'Tidak' 71.0 101.0 211.0]\n",
            " [3 'Laki-laki' 'Tidak' 48.0 129.0 200.0]\n",
            " [4 'Perempuan' 'Ya' 49.666666666666664 137.0 204.0]\n",
            " [5 'Laki-laki' 'Ya' 62.0 101.0 213.0]\n",
            " [6 'Perempuan' 'Tidak' 27.0 163.0 152.0]\n",
            " [7 'Laki-laki' 'Tidak' 40.0 159.0 200.0]\n",
            " [8 'Perempuan' 'Tidak' 58.0 120.0 156.0]\n",
            " [9 'Laki-laki' 'Tidak' 77.0 132.0 170.0]\n",
            " [10 'Laki-laki' 'Tidak' 38.0 175.0 222.0]\n",
            " [11 'Perempuan' 'Tidak' 42.0 142.77777777777777 188.0]\n",
            " [12 'Laki-laki' 'Tidak' 30.0 121.0 192.33333333333334]\n",
            " [13 'Perempuan' 'Tidak' 30.0 148.0 153.0]\n",
            " [14 'Perempuan' 'Ya' 43.0 158.0 238.0]\n",
            " [15 'Perempuan' 'Tidak' 72.0 142.77777777777777 209.0]\n",
            " [16 'Perempuan' 'Ya' 55.0 159.0 192.33333333333334]\n",
            " [17 'Perempuan' 'Tidak' 59.0 179.0 158.0]\n",
            " [18 'Perempuan' 'Tidak' 43.0 114.0 239.0]\n",
            " [19 'Perempuan' 'Ya' 49.666666666666664 161.0 202.0]\n",
            " [20 'Perempuan' 'Tidak' 41.0 161.0 151.0]]\n"
          ]
        }
      ]
    },
    {
      "cell_type": "code",
      "source": [
        "print (y)"
      ],
      "metadata": {
        "colab": {
          "base_uri": "https://localhost:8080/"
        },
        "id": "QlRpbi1Tz5er",
        "outputId": "8cb9ea1d-3767-4ed5-a98b-f75cbde1e8d8"
      },
      "execution_count": 78,
      "outputs": [
        {
          "output_type": "stream",
          "name": "stdout",
          "text": [
            "['Sehat' 'Sakit' 'Sakit' 'Sehat' 'Sakit' 'Sehat' 'Sakit' 'Sehat' 'Sehat'\n",
            " 'Sakit' 'Sakit' 'Sehat' 'Sakit' 'Sakit' 'Sakit' 'Sehat' 'Sehat' 'Sehat'\n",
            " 'Sehat' 'Sehat']\n"
          ]
        }
      ]
    },
    {
      "cell_type": "code",
      "source": [
        "from sklearn.compose import ColumnTransformer\n",
        "from sklearn.preprocessing import OneHotEncoder\n",
        "ct = ColumnTransformer(\n",
        "    transformers=[('encoder', OneHotEncoder(), [ 1, 2])],\n",
        "    remainder='passthrough'\n",
        ")\n",
        "x = np.array(ct.fit_transform(x))"
      ],
      "metadata": {
        "id": "GO_bC5pd18MY"
      },
      "execution_count": 93,
      "outputs": []
    },
    {
      "cell_type": "code",
      "source": [
        "print (x)"
      ],
      "metadata": {
        "colab": {
          "base_uri": "https://localhost:8080/"
        },
        "id": "shI3f6O72p9S",
        "outputId": "ce6dd535-8fb3-4220-f4e0-b68fc939bb9d"
      },
      "execution_count": 94,
      "outputs": [
        {
          "output_type": "stream",
          "name": "stdout",
          "text": [
            "[[0.0 1.0 1.0 0.0 1 58.0 152.0 196.0]\n",
            " [0.0 1.0 1.0 0.0 2 71.0 101.0 211.0]\n",
            " [1.0 0.0 1.0 0.0 3 48.0 129.0 200.0]\n",
            " [0.0 1.0 0.0 1.0 4 49.666666666666664 137.0 204.0]\n",
            " [1.0 0.0 0.0 1.0 5 62.0 101.0 213.0]\n",
            " [0.0 1.0 1.0 0.0 6 27.0 163.0 152.0]\n",
            " [1.0 0.0 1.0 0.0 7 40.0 159.0 200.0]\n",
            " [0.0 1.0 1.0 0.0 8 58.0 120.0 156.0]\n",
            " [1.0 0.0 1.0 0.0 9 77.0 132.0 170.0]\n",
            " [1.0 0.0 1.0 0.0 10 38.0 175.0 222.0]\n",
            " [0.0 1.0 1.0 0.0 11 42.0 142.77777777777777 188.0]\n",
            " [1.0 0.0 1.0 0.0 12 30.0 121.0 192.33333333333334]\n",
            " [0.0 1.0 1.0 0.0 13 30.0 148.0 153.0]\n",
            " [0.0 1.0 0.0 1.0 14 43.0 158.0 238.0]\n",
            " [0.0 1.0 1.0 0.0 15 72.0 142.77777777777777 209.0]\n",
            " [0.0 1.0 0.0 1.0 16 55.0 159.0 192.33333333333334]\n",
            " [0.0 1.0 1.0 0.0 17 59.0 179.0 158.0]\n",
            " [0.0 1.0 1.0 0.0 18 43.0 114.0 239.0]\n",
            " [0.0 1.0 0.0 1.0 19 49.666666666666664 161.0 202.0]\n",
            " [0.0 1.0 1.0 0.0 20 41.0 161.0 151.0]]\n"
          ]
        }
      ]
    },
    {
      "cell_type": "code",
      "source": [
        "from sklearn.preprocessing import LabelEncoder\n",
        "le = LabelEncoder()\n",
        "y = le.fit_transform(y)"
      ],
      "metadata": {
        "id": "YxR-eFf21Mpb"
      },
      "execution_count": 95,
      "outputs": []
    },
    {
      "cell_type": "code",
      "source": [
        "print (y)"
      ],
      "metadata": {
        "colab": {
          "base_uri": "https://localhost:8080/"
        },
        "id": "D7DldzGu1Qle",
        "outputId": "a61e024b-1a1b-4526-f061-3749873915e5"
      },
      "execution_count": 96,
      "outputs": [
        {
          "output_type": "stream",
          "name": "stdout",
          "text": [
            "[1 0 0 1 0 1 0 1 1 0 0 1 0 0 0 1 1 1 1 1]\n"
          ]
        }
      ]
    },
    {
      "cell_type": "code",
      "source": [
        "from sklearn.model_selection import train_test_split\n",
        "x_train, x_test, y_train, y_test = train_test_split(x, y, test_size=0.2, random_state=1)"
      ],
      "metadata": {
        "id": "KeIf3IhQ3KOa"
      },
      "execution_count": 97,
      "outputs": []
    },
    {
      "cell_type": "code",
      "source": [
        "print (x_train)"
      ],
      "metadata": {
        "colab": {
          "base_uri": "https://localhost:8080/"
        },
        "id": "UsKl3q_h3479",
        "outputId": "23dab559-d5b1-43c0-8d3a-779a4e99a140"
      },
      "execution_count": 98,
      "outputs": [
        {
          "output_type": "stream",
          "name": "stdout",
          "text": [
            "[[1.0 0.0 1.0 0.0 3 48.0 129.0 200.0]\n",
            " [0.0 1.0 1.0 0.0 15 72.0 142.77777777777777 209.0]\n",
            " [1.0 0.0 0.0 1.0 5 62.0 101.0 213.0]\n",
            " [0.0 1.0 1.0 0.0 18 43.0 114.0 239.0]\n",
            " [0.0 1.0 1.0 0.0 8 58.0 120.0 156.0]\n",
            " [0.0 1.0 1.0 0.0 2 71.0 101.0 211.0]\n",
            " [0.0 1.0 0.0 1.0 14 43.0 158.0 238.0]\n",
            " [0.0 1.0 1.0 0.0 1 58.0 152.0 196.0]\n",
            " [0.0 1.0 1.0 0.0 20 41.0 161.0 151.0]\n",
            " [0.0 1.0 0.0 1.0 19 49.666666666666664 161.0 202.0]\n",
            " [1.0 0.0 1.0 0.0 10 38.0 175.0 222.0]\n",
            " [0.0 1.0 0.0 1.0 16 55.0 159.0 192.33333333333334]\n",
            " [1.0 0.0 1.0 0.0 9 77.0 132.0 170.0]\n",
            " [0.0 1.0 1.0 0.0 13 30.0 148.0 153.0]\n",
            " [1.0 0.0 1.0 0.0 12 30.0 121.0 192.33333333333334]\n",
            " [0.0 1.0 1.0 0.0 6 27.0 163.0 152.0]]\n"
          ]
        }
      ]
    },
    {
      "cell_type": "code",
      "source": [
        "print (x_test)"
      ],
      "metadata": {
        "colab": {
          "base_uri": "https://localhost:8080/"
        },
        "id": "x0TEg7nI4Kty",
        "outputId": "60e590de-ddf4-4120-c4d0-ecd6884d36d3"
      },
      "execution_count": 99,
      "outputs": [
        {
          "output_type": "stream",
          "name": "stdout",
          "text": [
            "[[0.0 1.0 0.0 1.0 4 49.666666666666664 137.0 204.0]\n",
            " [0.0 1.0 1.0 0.0 17 59.0 179.0 158.0]\n",
            " [1.0 0.0 1.0 0.0 7 40.0 159.0 200.0]\n",
            " [0.0 1.0 1.0 0.0 11 42.0 142.77777777777777 188.0]]\n"
          ]
        }
      ]
    },
    {
      "cell_type": "code",
      "source": [
        "print (y_train)"
      ],
      "metadata": {
        "colab": {
          "base_uri": "https://localhost:8080/"
        },
        "id": "D2yFP-MZ4S7N",
        "outputId": "f7001cac-e22d-40c5-8e3f-82ae28a3c884"
      },
      "execution_count": 100,
      "outputs": [
        {
          "output_type": "stream",
          "name": "stdout",
          "text": [
            "[0 0 0 1 1 0 0 1 1 1 0 1 1 0 1 1]\n"
          ]
        }
      ]
    },
    {
      "cell_type": "code",
      "source": [
        "print (y_test)"
      ],
      "metadata": {
        "colab": {
          "base_uri": "https://localhost:8080/"
        },
        "id": "yaL_pMye4Wc_",
        "outputId": "8329327b-e884-4ee7-8717-79cc2c779b12"
      },
      "execution_count": 101,
      "outputs": [
        {
          "output_type": "stream",
          "name": "stdout",
          "text": [
            "[1 1 0 0]\n"
          ]
        }
      ]
    }
  ]
}